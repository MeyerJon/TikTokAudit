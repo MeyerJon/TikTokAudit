{
 "cells": [
  {
   "cell_type": "code",
   "execution_count": 1,
   "metadata": {},
   "outputs": [],
   "source": [
    "import pandas as pd\n",
    "import matplotlib.pyplot as plt\n",
    "import TikTokBot.preprocessing as preproc\n",
    "import os, glob"
   ]
  },
  {
   "cell_type": "code",
   "execution_count": 3,
   "metadata": {},
   "outputs": [
    {
     "name": "stdout",
     "output_type": "stream",
     "text": [
      "435\n"
     ]
    },
    {
     "name": "stderr",
     "output_type": "stream",
     "text": [
      "/home/jonathan/anaconda3/lib/python3.8/site-packages/pandas/core/indexing.py:1745: SettingWithCopyWarning: \n",
      "A value is trying to be set on a copy of a slice from a DataFrame.\n",
      "Try using .loc[row_indexer,col_indexer] = value instead\n",
      "\n",
      "See the caveats in the documentation: https://pandas.pydata.org/pandas-docs/stable/user_guide/indexing.html#returning-a-view-versus-a-copy\n",
      "  isetter(ilocs[0], value)\n"
     ]
    }
   ],
   "source": [
    "raw_data = preproc.load_folders([\"./data/tags/hate\", \"./data/creators/hate\"])\n",
    "data = preproc.prep_vidinfo(raw_data)\n",
    "print(len(data))"
   ]
  },
  {
   "cell_type": "code",
   "execution_count": 6,
   "metadata": {},
   "outputs": [
    {
     "data": {
      "text/plain": [
       "33537"
      ]
     },
     "execution_count": 6,
     "metadata": {},
     "output_type": "execute_result"
    }
   ],
   "source": [
    "# Loading Max Boeker's data to add to ours\n",
    "# These were collected around July 2021, likely from a larger range of IPs\n",
    "# Source: https://github.com/mboeke/TikTok-Personalization-Investigation/blob/7619274d830e76f88a917a5315642df25af96775/utilities/Final%20Test%20Data/training_data_set.csv\n",
    "mb_data = pd.read_csv(\"./data/mboeke_data.csv\")\n",
    "mb_data.dropna(inplace=True)\n",
    "len(mb_data)"
   ]
  },
  {
   "cell_type": "code",
   "execution_count": 7,
   "metadata": {},
   "outputs": [],
   "source": [
    "# Clean the data and format tags as lists\n",
    "def format_mb_tags(t):\n",
    "    t = ['#' + x.lower() for x in t.split()]\n",
    "    return t\n",
    "mb_data.loc[:,'tags'] = mb_data.loc[:,'tags'].apply(format_mb_tags)"
   ]
  },
  {
   "cell_type": "code",
   "execution_count": 7,
   "metadata": {},
   "outputs": [
    {
     "data": {
      "text/plain": [
       "435"
      ]
     },
     "execution_count": 7,
     "metadata": {},
     "output_type": "execute_result"
    }
   ],
   "source": [
    "tags_series = data.tags#pd.concat([data.tags, mb_data.tags], ignore_index=True)\n",
    "len(tags_series)"
   ]
  },
  {
   "cell_type": "code",
   "execution_count": 8,
   "metadata": {},
   "outputs": [],
   "source": [
    "all_hashtags = list()\n",
    "all_mentions = list()\n",
    "for tags in tags_series:\n",
    "    if len(tags) == 0: continue\n",
    "    all_hashtags.extend([preproc.remove_emojis(x) for x in tags if x.startswith('#')])\n",
    "    all_mentions.extend([x for x in tags if x.startswith('@')])"
   ]
  },
  {
   "cell_type": "code",
   "execution_count": 9,
   "metadata": {},
   "outputs": [],
   "source": [
    "# Filter out the common stuff\n",
    "common = set()\n",
    "with open(\"./generic-tags.txt\", 'r') as ifile:\n",
    "    common = set(ifile.read().split())\n",
    "all_hashtags = [x for x in all_hashtags if len(x) > 1 and x[1:] not in common]\n",
    "all_hashtags = list(filter(preproc.common_filter_rules, all_hashtags))"
   ]
  },
  {
   "cell_type": "code",
   "execution_count": 10,
   "metadata": {},
   "outputs": [
    {
     "data": {
      "text/plain": [
       "1433"
      ]
     },
     "execution_count": 10,
     "metadata": {},
     "output_type": "execute_result"
    }
   ],
   "source": [
    "from collections import Counter\n",
    "c = Counter(all_hashtags)\n",
    "counts_df = pd.DataFrame.from_dict(c, orient='index').reset_index().rename(columns={'index':'tag', 0:'freq'})\n",
    "len(counts_df)"
   ]
  },
  {
   "cell_type": "code",
   "execution_count": 11,
   "metadata": {},
   "outputs": [
    {
     "data": {
      "text/html": [
       "<div>\n",
       "<style scoped>\n",
       "    .dataframe tbody tr th:only-of-type {\n",
       "        vertical-align: middle;\n",
       "    }\n",
       "\n",
       "    .dataframe tbody tr th {\n",
       "        vertical-align: top;\n",
       "    }\n",
       "\n",
       "    .dataframe thead th {\n",
       "        text-align: right;\n",
       "    }\n",
       "</style>\n",
       "<table border=\"1\" class=\"dataframe\">\n",
       "  <thead>\n",
       "    <tr style=\"text-align: right;\">\n",
       "      <th></th>\n",
       "      <th>tag</th>\n",
       "      <th>freq</th>\n",
       "    </tr>\n",
       "  </thead>\n",
       "  <tbody>\n",
       "    <tr>\n",
       "      <th>37</th>\n",
       "      <td>#nationalism</td>\n",
       "      <td>119</td>\n",
       "    </tr>\n",
       "    <tr>\n",
       "      <th>8</th>\n",
       "      <td>#based</td>\n",
       "      <td>62</td>\n",
       "    </tr>\n",
       "    <tr>\n",
       "      <th>660</th>\n",
       "      <td>#europeforeuropean</td>\n",
       "      <td>56</td>\n",
       "    </tr>\n",
       "    <tr>\n",
       "      <th>131</th>\n",
       "      <td>#fascist</td>\n",
       "      <td>53</td>\n",
       "    </tr>\n",
       "    <tr>\n",
       "      <th>7</th>\n",
       "      <td>#thirdposition</td>\n",
       "      <td>50</td>\n",
       "    </tr>\n",
       "    <tr>\n",
       "      <th>769</th>\n",
       "      <td>#thegreatreset</td>\n",
       "      <td>49</td>\n",
       "    </tr>\n",
       "    <tr>\n",
       "      <th>1160</th>\n",
       "      <td>#whiteboysummer</td>\n",
       "      <td>49</td>\n",
       "    </tr>\n",
       "    <tr>\n",
       "      <th>102</th>\n",
       "      <td>#traditionalism</td>\n",
       "      <td>40</td>\n",
       "    </tr>\n",
       "    <tr>\n",
       "      <th>1284</th>\n",
       "      <td>#czech</td>\n",
       "      <td>40</td>\n",
       "    </tr>\n",
       "    <tr>\n",
       "      <th>656</th>\n",
       "      <td>#whitepeoplethings</td>\n",
       "      <td>35</td>\n",
       "    </tr>\n",
       "    <tr>\n",
       "      <th>134</th>\n",
       "      <td>#christian</td>\n",
       "      <td>33</td>\n",
       "    </tr>\n",
       "    <tr>\n",
       "      <th>101</th>\n",
       "      <td>#politics</td>\n",
       "      <td>33</td>\n",
       "    </tr>\n",
       "    <tr>\n",
       "      <th>527</th>\n",
       "      <td>#nowhiteguilt</td>\n",
       "      <td>32</td>\n",
       "    </tr>\n",
       "    <tr>\n",
       "      <th>662</th>\n",
       "      <td>#whiteculture</td>\n",
       "      <td>31</td>\n",
       "    </tr>\n",
       "    <tr>\n",
       "      <th>697</th>\n",
       "      <td>#europeans</td>\n",
       "      <td>30</td>\n",
       "    </tr>\n",
       "    <tr>\n",
       "      <th>203</th>\n",
       "      <td>#catholic</td>\n",
       "      <td>26</td>\n",
       "    </tr>\n",
       "    <tr>\n",
       "      <th>661</th>\n",
       "      <td>#europeanbeauty</td>\n",
       "      <td>24</td>\n",
       "    </tr>\n",
       "    <tr>\n",
       "      <th>704</th>\n",
       "      <td>#proudtobewhite</td>\n",
       "      <td>23</td>\n",
       "    </tr>\n",
       "    <tr>\n",
       "      <th>64</th>\n",
       "      <td>#conservative</td>\n",
       "      <td>20</td>\n",
       "    </tr>\n",
       "    <tr>\n",
       "      <th>139</th>\n",
       "      <td>#orthodox</td>\n",
       "      <td>20</td>\n",
       "    </tr>\n",
       "    <tr>\n",
       "      <th>1314</th>\n",
       "      <td>#rejectmodernity</td>\n",
       "      <td>19</td>\n",
       "    </tr>\n",
       "    <tr>\n",
       "      <th>212</th>\n",
       "      <td>#trump</td>\n",
       "      <td>19</td>\n",
       "    </tr>\n",
       "    <tr>\n",
       "      <th>1008</th>\n",
       "      <td>#jesusisking</td>\n",
       "      <td>18</td>\n",
       "    </tr>\n",
       "    <tr>\n",
       "      <th>1315</th>\n",
       "      <td>#embracetradition</td>\n",
       "      <td>18</td>\n",
       "    </tr>\n",
       "    <tr>\n",
       "      <th>103</th>\n",
       "      <td>#conservatism</td>\n",
       "      <td>18</td>\n",
       "    </tr>\n",
       "    <tr>\n",
       "      <th>143</th>\n",
       "      <td>#history</td>\n",
       "      <td>18</td>\n",
       "    </tr>\n",
       "    <tr>\n",
       "      <th>31</th>\n",
       "      <td>#farright</td>\n",
       "      <td>17</td>\n",
       "    </tr>\n",
       "    <tr>\n",
       "      <th>978</th>\n",
       "      <td>#exvangelical</td>\n",
       "      <td>17</td>\n",
       "    </tr>\n",
       "    <tr>\n",
       "      <th>128</th>\n",
       "      <td>#socialism</td>\n",
       "      <td>16</td>\n",
       "    </tr>\n",
       "    <tr>\n",
       "      <th>30</th>\n",
       "      <td>#rightwing</td>\n",
       "      <td>16</td>\n",
       "    </tr>\n",
       "  </tbody>\n",
       "</table>\n",
       "</div>"
      ],
      "text/plain": [
       "                     tag  freq\n",
       "37          #nationalism   119\n",
       "8                 #based    62\n",
       "660   #europeforeuropean    56\n",
       "131             #fascist    53\n",
       "7         #thirdposition    50\n",
       "769       #thegreatreset    49\n",
       "1160     #whiteboysummer    49\n",
       "102      #traditionalism    40\n",
       "1284              #czech    40\n",
       "656   #whitepeoplethings    35\n",
       "134           #christian    33\n",
       "101            #politics    33\n",
       "527        #nowhiteguilt    32\n",
       "662        #whiteculture    31\n",
       "697           #europeans    30\n",
       "203            #catholic    26\n",
       "661      #europeanbeauty    24\n",
       "704      #proudtobewhite    23\n",
       "64         #conservative    20\n",
       "139            #orthodox    20\n",
       "1314    #rejectmodernity    19\n",
       "212               #trump    19\n",
       "1008        #jesusisking    18\n",
       "1315   #embracetradition    18\n",
       "103        #conservatism    18\n",
       "143             #history    18\n",
       "31             #farright    17\n",
       "978        #exvangelical    17\n",
       "128           #socialism    16\n",
       "30            #rightwing    16"
      ]
     },
     "execution_count": 11,
     "metadata": {},
     "output_type": "execute_result"
    }
   ],
   "source": [
    "counts_df.sort_values('freq', ascending=False)[0:30]"
   ]
  },
  {
   "cell_type": "code",
   "execution_count": 12,
   "metadata": {},
   "outputs": [
    {
     "data": {
      "image/png": "[encoded data removed]",
      "text/plain": [
       "<Figure size 432x288 with 1 Axes>"
      ]
     },
     "metadata": {
      "needs_background": "light"
     },
     "output_type": "display_data"
    }
   ],
   "source": [
    "k = 50\n",
    "freqs = [f / len(tags_series) for f in list(counts_df.freq)]\n",
    "plt.plot(list(range(k)), sorted(freqs, reverse=True)[:k], marker='.')\n",
    "plt.show()"
   ]
  },
  {
   "cell_type": "code",
   "execution_count": 13,
   "metadata": {},
   "outputs": [],
   "source": [
    "# Save all seen IDs to file\n",
    "data.v_id.to_csv(\"./to-skip.csv\", index=False)"
   ]
  },
  {
   "cell_type": "code",
   "execution_count": 15,
   "metadata": {},
   "outputs": [
    {
     "data": {
      "text/html": [
       "<div>\n",
       "<style scoped>\n",
       "    .dataframe tbody tr th:only-of-type {\n",
       "        vertical-align: middle;\n",
       "    }\n",
       "\n",
       "    .dataframe tbody tr th {\n",
       "        vertical-align: top;\n",
       "    }\n",
       "\n",
       "    .dataframe thead th {\n",
       "        text-align: right;\n",
       "    }\n",
       "</style>\n",
       "<table border=\"1\" class=\"dataframe\">\n",
       "  <thead>\n",
       "    <tr style=\"text-align: right;\">\n",
       "      <th></th>\n",
       "      <th>v_id</th>\n",
       "      <th>creator</th>\n",
       "      <th>desc</th>\n",
       "      <th>duration</th>\n",
       "      <th>likes</th>\n",
       "      <th>comments</th>\n",
       "      <th>sound</th>\n",
       "      <th>tags</th>\n",
       "    </tr>\n",
       "  </thead>\n",
       "  <tbody>\n",
       "  </tbody>\n",
       "</table>\n",
       "</div>"
      ],
      "text/plain": [
       "Empty DataFrame\n",
       "Columns: [v_id, creator, desc, duration, likes, comments, sound, tags]\n",
       "Index: []"
      ]
     },
     "execution_count": 15,
     "metadata": {},
     "output_type": "execute_result"
    }
   ],
   "source": [
    "data[data.creator == \"miniminuteman\"]"
   ]
  },
  {
   "cell_type": "markdown",
   "metadata": {},
   "source": [
    "## Modelling tags"
   ]
  },
  {
   "cell_type": "code",
   "execution_count": 27,
   "metadata": {},
   "outputs": [],
   "source": [
    "# Format the data for rule mining (v_id is transaction, each tag is an item)\n",
    "with open(\"./tag-transactions\", \"w\") as ofile:\n",
    "    ofile.write(\"v_id,tag\\n\")\n",
    "    for ix, r in data.iterrows():\n",
    "        for t in r.tags:\n",
    "            if t[0] == '@': continue # Skip mentions\n",
    "            clean_t = remove_emojis(t)\n",
    "            if common_filter_rules(clean_t) and clean_t[1:] not in common and len(clean_t) > 1:\n",
    "                ofile.write(f\"{r.v_id},{t}\\n\")\n",
    "    \"\"\"\n",
    "    for ix, r in mb_data.iterrows():\n",
    "        for t in r.tags:\n",
    "            if t[0] == '@': continue # Skip mentions\n",
    "            clean_t = remove_emojis(t)\n",
    "            if common_filter_rules(clean_t) and clean_t[1:] not in common and len(clean_t) > 1:\n",
    "                ofile.write(f\"{r.v_id},{t}\\n\")\n",
    "    \"\"\""
   ]
  },
  {
   "cell_type": "code",
   "execution_count": 28,
   "metadata": {},
   "outputs": [],
   "source": [
    "# Format the data for modelling\n",
    "sentences = list()\n",
    "with open(\"./tag-sentences\", \"w\") as ofile:\n",
    "    for tags in tags_series:\n",
    "        clean_t = [remove_emojis(t) for t in tags]\n",
    "        clean_t = sorted(list(filter(lambda t : t[1:] not in common and len(t) > 1, clean_t)))\n",
    "        clean_t = list(filter(common_filter_rules, clean_t))\n",
    "        if len(clean_t) > 0:\n",
    "            sentence = ' '.join(clean_t)\n",
    "            ofile.write(sentence + '\\n')\n",
    "            sentences.append(sentence)"
   ]
  },
  {
   "cell_type": "code",
   "execution_count": 29,
   "metadata": {},
   "outputs": [],
   "source": [
    "from sklearn.feature_extraction.text import TfidfVectorizer\n",
    "vectorizer = TfidfVectorizer(max_df=0.4)\n",
    "X = vectorizer.fit_transform(sentences)"
   ]
  },
  {
   "cell_type": "code",
   "execution_count": 30,
   "metadata": {},
   "outputs": [
    {
     "data": {
      "text/plain": [
       "(430, 1501)"
      ]
     },
     "execution_count": 30,
     "metadata": {},
     "output_type": "execute_result"
    }
   ],
   "source": [
    "X.shape"
   ]
  },
  {
   "cell_type": "markdown",
   "metadata": {},
   "source": [
    "## Audio extraction"
   ]
  },
  {
   "cell_type": "code",
   "execution_count": 50,
   "metadata": {},
   "outputs": [],
   "source": [
    "import ffmpeg"
   ]
  },
  {
   "cell_type": "code",
   "execution_count": 99,
   "metadata": {},
   "outputs": [],
   "source": [
    "vid_url = \"https://v16-webapp.tiktok.com/56d17451298e4639dd18a4fc49ebe3f0/623e0e61/video/tos/useast2a/tos-useast2a-ve-0068c001/3fa802bcb9c04747aae8cad0279b2850/?a=1988&br=5390&bt=2695&cd=0%7C0%7C1%7C0&ch=0&cr=0&cs=0&cv=1&dr=0&ds=3&er=&ft=XOQ9-3.Pnz7ThY.2JDXq&l=202203251247540102230201311EBBFAB6&lr=tiktok_m&mime_type=video_mp4&net=0&pl=0&qs=0&rc=M2h3NjU2OGVydTMzaDczM0ApM2VnaTc2aDtkN2Q2NThoaWdtbWZea3IzYzNfLS01MTZzczZjYi02MzAwNDI1NS5fLzM6Yw%3D%3D&vl=&vr=\""
   ]
  },
  {
   "cell_type": "code",
   "execution_count": 59,
   "metadata": {},
   "outputs": [
    {
     "data": {
      "text/plain": [
       "'44100'"
      ]
     },
     "execution_count": 59,
     "metadata": {},
     "output_type": "execute_result"
    }
   ],
   "source": [
    "# Probe the audio streams (use it in case you need information like sample rate):\n",
    "probe = ffmpeg.probe(vid_url)\n",
    "probe"
   ]
  },
  {
   "cell_type": "code",
   "execution_count": 100,
   "metadata": {},
   "outputs": [],
   "source": [
    "audio = ffmpeg.input(vid_url).output(\"pipe:\", format=\"WAV\")"
   ]
  },
  {
   "cell_type": "code",
   "execution_count": 101,
   "metadata": {},
   "outputs": [],
   "source": [
    "a_bytes = audio.run(capture_stdout=True)[0]"
   ]
  },
  {
   "cell_type": "code",
   "execution_count": 102,
   "metadata": {},
   "outputs": [],
   "source": [
    "with open('audio.wav', 'wb') as f:\n",
    "    f.write(a_bytes)"
   ]
  },
  {
   "cell_type": "code",
   "execution_count": 50,
   "metadata": {},
   "outputs": [],
   "source": [
    "import TikTokBot.preprocessing as preproc\n",
    "df = preproc.prep_vidinfo(pd.read_csv(\"./data/tags/antivax/nojab.csv\"))"
   ]
  },
  {
   "cell_type": "code",
   "execution_count": 64,
   "metadata": {},
   "outputs": [
    {
     "data": {
      "text/plain": [
       "True"
      ]
     },
     "execution_count": 64,
     "metadata": {},
     "output_type": "execute_result"
    }
   ],
   "source": [
    "isinstance(df[\"tags\"][0], list)"
   ]
  },
  {
   "cell_type": "code",
   "execution_count": null,
   "metadata": {},
   "outputs": [],
   "source": []
  }
 ],
 "metadata": {
  "kernelspec": {
   "display_name": "Python 3",
   "language": "python",
   "name": "python3"
  },
  "language_info": {
   "codemirror_mode": {
    "name": "ipython",
    "version": 3
   },
   "file_extension": ".py",
   "mimetype": "text/x-python",
   "name": "python",
   "nbconvert_exporter": "python",
   "pygments_lexer": "ipython3",
   "version": "3.8.5"
  }
 },
 "nbformat": 4,
 "nbformat_minor": 4
}
