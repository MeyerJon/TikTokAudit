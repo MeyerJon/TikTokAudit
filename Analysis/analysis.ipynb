{
 "cells": [
  {
   "cell_type": "code",
   "execution_count": 2,
   "metadata": {},
   "outputs": [],
   "source": [
    "import pandas as pd\n",
    "import matplotlib.pyplot as plt\n",
    "import preprocessing as preproc\n",
    "import os, glob"
   ]
  },
  {
   "cell_type": "code",
   "execution_count": 3,
   "metadata": {},
   "outputs": [
    {
     "name": "stdout",
     "output_type": "stream",
     "text": [
      "150\n"
     ]
    }
   ],
   "source": [
    "#raw_data = preproc.load_folders([\"./data/tags/hate\", \"./data/creators/hate\"])\n",
    "raw_data = preproc.load_folders([\"../data/AV\"])\n",
    "data = preproc.prep_vidinfo(raw_data)\n",
    "print(len(data))"
   ]
  },
  {
   "cell_type": "code",
   "execution_count": 6,
   "metadata": {},
   "outputs": [
    {
     "data": {
      "text/plain": [
       "33537"
      ]
     },
     "execution_count": 6,
     "metadata": {},
     "output_type": "execute_result"
    }
   ],
   "source": [
    "# Loading Max Boeker's data to add to ours\n",
    "# These were collected around July 2021, likely from a larger range of IPs\n",
    "# Source: https://github.com/mboeke/TikTok-Personalization-Investigation/blob/7619274d830e76f88a917a5315642df25af96775/utilities/Final%20Test%20Data/training_data_set.csv\n",
    "mb_data = pd.read_csv(\"./data/mboeke_data.csv\")\n",
    "mb_data.dropna(inplace=True)\n",
    "len(mb_data)"
   ]
  },
  {
   "cell_type": "code",
   "execution_count": 7,
   "metadata": {},
   "outputs": [],
   "source": [
    "# Clean the data and format tags as lists\n",
    "def format_mb_tags(t):\n",
    "    t = ['#' + x.lower() for x in t.split()]\n",
    "    return t\n",
    "mb_data.loc[:,'tags'] = mb_data.loc[:,'tags'].apply(format_mb_tags)"
   ]
  },
  {
   "cell_type": "code",
   "execution_count": 4,
   "metadata": {},
   "outputs": [
    {
     "data": {
      "text/plain": [
       "150"
      ]
     },
     "execution_count": 4,
     "metadata": {},
     "output_type": "execute_result"
    }
   ],
   "source": [
    "tags_series = data.tags#pd.concat([data.tags, mb_data.tags], ignore_index=True)\n",
    "len(tags_series)"
   ]
  },
  {
   "cell_type": "code",
   "execution_count": 5,
   "metadata": {},
   "outputs": [],
   "source": [
    "all_hashtags = list()\n",
    "all_mentions = list()\n",
    "for tags in tags_series:\n",
    "    if len(tags) == 0: continue\n",
    "    all_hashtags.extend([preproc.remove_emojis(x) for x in tags if x.startswith('#')])\n",
    "    all_mentions.extend([x for x in tags if x.startswith('@')])"
   ]
  },
  {
   "cell_type": "code",
   "execution_count": 7,
   "metadata": {},
   "outputs": [],
   "source": [
    "# Filter out the common stuff\n",
    "common = set()\n",
    "with open(\"../generic-tags.txt\", 'r') as ifile:\n",
    "    common = set(ifile.read().split())\n",
    "all_hashtags = [x for x in all_hashtags if len(x) > 1 and x[1:] not in common]\n",
    "all_hashtags = list(filter(preproc.common_filter_rules, all_hashtags))"
   ]
  },
  {
   "cell_type": "code",
   "execution_count": 8,
   "metadata": {},
   "outputs": [
    {
     "data": {
      "text/plain": [
       "310"
      ]
     },
     "execution_count": 8,
     "metadata": {},
     "output_type": "execute_result"
    }
   ],
   "source": [
    "from collections import Counter\n",
    "c = Counter(all_hashtags)\n",
    "counts_df = pd.DataFrame.from_dict(c, orient='index').reset_index().rename(columns={'index':'tag', 0:'freq'})\n",
    "len(counts_df)"
   ]
  },
  {
   "cell_type": "code",
   "execution_count": 9,
   "metadata": {},
   "outputs": [
    {
     "data": {
      "text/html": [
       "<div>\n",
       "<style scoped>\n",
       "    .dataframe tbody tr th:only-of-type {\n",
       "        vertical-align: middle;\n",
       "    }\n",
       "\n",
       "    .dataframe tbody tr th {\n",
       "        vertical-align: top;\n",
       "    }\n",
       "\n",
       "    .dataframe thead th {\n",
       "        text-align: right;\n",
       "    }\n",
       "</style>\n",
       "<table border=\"1\" class=\"dataframe\">\n",
       "  <thead>\n",
       "    <tr style=\"text-align: right;\">\n",
       "      <th></th>\n",
       "      <th>tag</th>\n",
       "      <th>freq</th>\n",
       "    </tr>\n",
       "  </thead>\n",
       "  <tbody>\n",
       "    <tr>\n",
       "      <th>24</th>\n",
       "      <td>#funny</td>\n",
       "      <td>9</td>\n",
       "    </tr>\n",
       "    <tr>\n",
       "      <th>48</th>\n",
       "      <td>#prank</td>\n",
       "      <td>5</td>\n",
       "    </tr>\n",
       "    <tr>\n",
       "      <th>37</th>\n",
       "      <td>#thebluecrew</td>\n",
       "      <td>4</td>\n",
       "    </tr>\n",
       "    <tr>\n",
       "      <th>26</th>\n",
       "      <td>#waitforit</td>\n",
       "      <td>3</td>\n",
       "    </tr>\n",
       "    <tr>\n",
       "      <th>21</th>\n",
       "      <td>#asmr</td>\n",
       "      <td>3</td>\n",
       "    </tr>\n",
       "    <tr>\n",
       "      <th>98</th>\n",
       "      <td>#grappig</td>\n",
       "      <td>3</td>\n",
       "    </tr>\n",
       "    <tr>\n",
       "      <th>27</th>\n",
       "      <td>#experiment</td>\n",
       "      <td>3</td>\n",
       "    </tr>\n",
       "    <tr>\n",
       "      <th>104</th>\n",
       "      <td>#love</td>\n",
       "      <td>3</td>\n",
       "    </tr>\n",
       "    <tr>\n",
       "      <th>54</th>\n",
       "      <td>#donelltotti</td>\n",
       "      <td>3</td>\n",
       "    </tr>\n",
       "    <tr>\n",
       "      <th>215</th>\n",
       "      <td>#drole</td>\n",
       "      <td>2</td>\n",
       "    </tr>\n",
       "    <tr>\n",
       "      <th>214</th>\n",
       "      <td>#funnyvideo</td>\n",
       "      <td>2</td>\n",
       "    </tr>\n",
       "    <tr>\n",
       "      <th>71</th>\n",
       "      <td>#belgie</td>\n",
       "      <td>2</td>\n",
       "    </tr>\n",
       "    <tr>\n",
       "      <th>143</th>\n",
       "      <td>#mdr</td>\n",
       "      <td>2</td>\n",
       "    </tr>\n",
       "    <tr>\n",
       "      <th>213</th>\n",
       "      <td>#meme</td>\n",
       "      <td>2</td>\n",
       "    </tr>\n",
       "    <tr>\n",
       "      <th>145</th>\n",
       "      <td>#pizza</td>\n",
       "      <td>2</td>\n",
       "    </tr>\n",
       "    <tr>\n",
       "      <th>130</th>\n",
       "      <td>#vjp</td>\n",
       "      <td>2</td>\n",
       "    </tr>\n",
       "    <tr>\n",
       "      <th>64</th>\n",
       "      <td>#بلجيكا</td>\n",
       "      <td>2</td>\n",
       "    </tr>\n",
       "    <tr>\n",
       "      <th>235</th>\n",
       "      <td>#fail</td>\n",
       "      <td>2</td>\n",
       "    </tr>\n",
       "    <tr>\n",
       "      <th>175</th>\n",
       "      <td>#creepy</td>\n",
       "      <td>2</td>\n",
       "    </tr>\n",
       "    <tr>\n",
       "      <th>96</th>\n",
       "      <td>#humor</td>\n",
       "      <td>2</td>\n",
       "    </tr>\n",
       "    <tr>\n",
       "      <th>6</th>\n",
       "      <td>#dubai</td>\n",
       "      <td>2</td>\n",
       "    </tr>\n",
       "    <tr>\n",
       "      <th>162</th>\n",
       "      <td>#johnnydepp</td>\n",
       "      <td>2</td>\n",
       "    </tr>\n",
       "    <tr>\n",
       "      <th>16</th>\n",
       "      <td>#restock</td>\n",
       "      <td>2</td>\n",
       "    </tr>\n",
       "    <tr>\n",
       "      <th>79</th>\n",
       "      <td>#justforfun</td>\n",
       "      <td>2</td>\n",
       "    </tr>\n",
       "    <tr>\n",
       "      <th>87</th>\n",
       "      <td>#sad</td>\n",
       "      <td>2</td>\n",
       "    </tr>\n",
       "    <tr>\n",
       "      <th>10</th>\n",
       "      <td>#sabriayoub</td>\n",
       "      <td>2</td>\n",
       "    </tr>\n",
       "    <tr>\n",
       "      <th>232</th>\n",
       "      <td>#moubarak</td>\n",
       "      <td>1</td>\n",
       "    </tr>\n",
       "    <tr>\n",
       "      <th>212</th>\n",
       "      <td>#part2</td>\n",
       "      <td>1</td>\n",
       "    </tr>\n",
       "    <tr>\n",
       "      <th>211</th>\n",
       "      <td>#potpouri</td>\n",
       "      <td>1</td>\n",
       "    </tr>\n",
       "    <tr>\n",
       "      <th>226</th>\n",
       "      <td>#business</td>\n",
       "      <td>1</td>\n",
       "    </tr>\n",
       "  </tbody>\n",
       "</table>\n",
       "</div>"
      ],
      "text/plain": [
       "              tag  freq\n",
       "24         #funny     9\n",
       "48         #prank     5\n",
       "37   #thebluecrew     4\n",
       "26     #waitforit     3\n",
       "21          #asmr     3\n",
       "98       #grappig     3\n",
       "27    #experiment     3\n",
       "104         #love     3\n",
       "54   #donelltotti     3\n",
       "215        #drole     2\n",
       "214   #funnyvideo     2\n",
       "71        #belgie     2\n",
       "143          #mdr     2\n",
       "213         #meme     2\n",
       "145        #pizza     2\n",
       "130          #vjp     2\n",
       "64        #بلجيكا     2\n",
       "235         #fail     2\n",
       "175       #creepy     2\n",
       "96         #humor     2\n",
       "6          #dubai     2\n",
       "162   #johnnydepp     2\n",
       "16       #restock     2\n",
       "79    #justforfun     2\n",
       "87           #sad     2\n",
       "10    #sabriayoub     2\n",
       "232     #moubarak     1\n",
       "212        #part2     1\n",
       "211     #potpouri     1\n",
       "226     #business     1"
      ]
     },
     "execution_count": 9,
     "metadata": {},
     "output_type": "execute_result"
    }
   ],
   "source": [
    "counts_df.sort_values('freq', ascending=False)[0:30]"
   ]
  },
  {
   "cell_type": "code",
   "execution_count": 10,
   "metadata": {},
   "outputs": [
    {
     "data": {
      "image/png": "[encoded data removed]",
      "text/plain": [
       "<Figure size 432x288 with 1 Axes>"
      ]
     },
     "metadata": {
      "needs_background": "light"
     },
     "output_type": "display_data"
    }
   ],
   "source": [
    "k = 50\n",
    "freqs = [f / len(tags_series) for f in list(counts_df.freq)]\n",
    "plt.plot(list(range(k)), sorted(freqs, reverse=True)[:k], marker='.')\n",
    "plt.show()"
   ]
  },
  {
   "cell_type": "code",
   "execution_count": 13,
   "metadata": {},
   "outputs": [],
   "source": [
    "# Save all seen IDs to file\n",
    "data.v_id.to_csv(\"./to-skip.csv\", index=False)"
   ]
  },
  {
   "cell_type": "code",
   "execution_count": 11,
   "metadata": {},
   "outputs": [
    {
     "data": {
      "text/plain": [
       "139"
      ]
     },
     "execution_count": 11,
     "metadata": {},
     "output_type": "execute_result"
    }
   ],
   "source": [
    "from collections import Counter\n",
    "c = Counter(list(data[\"sound\"]))\n",
    "counts_df = pd.DataFrame.from_dict(c, orient='index').reset_index().rename(columns={'index':'sound', 0:'freq'})\n",
    "len(counts_df)"
   ]
  },
  {
   "cell_type": "code",
   "execution_count": 12,
   "metadata": {},
   "outputs": [
    {
     "data": {
      "text/html": [
       "<div>\n",
       "<style scoped>\n",
       "    .dataframe tbody tr th:only-of-type {\n",
       "        vertical-align: middle;\n",
       "    }\n",
       "\n",
       "    .dataframe tbody tr th {\n",
       "        vertical-align: top;\n",
       "    }\n",
       "\n",
       "    .dataframe thead th {\n",
       "        text-align: right;\n",
       "    }\n",
       "</style>\n",
       "<table border=\"1\" class=\"dataframe\">\n",
       "  <thead>\n",
       "    <tr style=\"text-align: right;\">\n",
       "      <th></th>\n",
       "      <th>sound</th>\n",
       "      <th>freq</th>\n",
       "    </tr>\n",
       "  </thead>\n",
       "  <tbody>\n",
       "    <tr>\n",
       "      <th>1</th>\n",
       "      <td>Love You So - The King Khan &amp; BBQ Show</td>\n",
       "      <td>4</td>\n",
       "    </tr>\n",
       "    <tr>\n",
       "      <th>10</th>\n",
       "      <td>original sound - Mrkrul</td>\n",
       "      <td>3</td>\n",
       "    </tr>\n",
       "    <tr>\n",
       "      <th>22</th>\n",
       "      <td>original sound - Donell Totti</td>\n",
       "      <td>3</td>\n",
       "    </tr>\n",
       "    <tr>\n",
       "      <th>66</th>\n",
       "      <td>Jiggle Jiggle - Duke &amp; Jones &amp; Louis Theroux</td>\n",
       "      <td>2</td>\n",
       "    </tr>\n",
       "    <tr>\n",
       "      <th>15</th>\n",
       "      <td>origineel geluid - Ken demarteau</td>\n",
       "      <td>2</td>\n",
       "    </tr>\n",
       "    <tr>\n",
       "      <th>30</th>\n",
       "      <td>sonido original - Esteve &lt;3</td>\n",
       "      <td>2</td>\n",
       "    </tr>\n",
       "    <tr>\n",
       "      <th>19</th>\n",
       "      <td>original sound - Andrey Moshkanov</td>\n",
       "      <td>2</td>\n",
       "    </tr>\n",
       "    <tr>\n",
       "      <th>100</th>\n",
       "      <td>son original - Inès 🤹🏻‍♀️</td>\n",
       "      <td>1</td>\n",
       "    </tr>\n",
       "    <tr>\n",
       "      <th>99</th>\n",
       "      <td>Remember the Name (feat. Styles of Beyond) - F...</td>\n",
       "      <td>1</td>\n",
       "    </tr>\n",
       "    <tr>\n",
       "      <th>98</th>\n",
       "      <td>original sound - wlimitate</td>\n",
       "      <td>1</td>\n",
       "    </tr>\n",
       "    <tr>\n",
       "      <th>101</th>\n",
       "      <td>Ya Nour el Ein - Adium Remix - Massari</td>\n",
       "      <td>1</td>\n",
       "    </tr>\n",
       "    <tr>\n",
       "      <th>97</th>\n",
       "      <td>الصوت الأصلي - بوشنب⭐️</td>\n",
       "      <td>1</td>\n",
       "    </tr>\n",
       "    <tr>\n",
       "      <th>102</th>\n",
       "      <td>original sound - katnuf</td>\n",
       "      <td>1</td>\n",
       "    </tr>\n",
       "    <tr>\n",
       "      <th>96</th>\n",
       "      <td>son original - nicocapone.comedy</td>\n",
       "      <td>1</td>\n",
       "    </tr>\n",
       "    <tr>\n",
       "      <th>95</th>\n",
       "      <td>son original - Medha</td>\n",
       "      <td>1</td>\n",
       "    </tr>\n",
       "    <tr>\n",
       "      <th>103</th>\n",
       "      <td>Impi - Johnny Clegg &amp; Juluka</td>\n",
       "      <td>1</td>\n",
       "    </tr>\n",
       "    <tr>\n",
       "      <th>94</th>\n",
       "      <td>origineel geluid - RandomShit🤣</td>\n",
       "      <td>1</td>\n",
       "    </tr>\n",
       "    <tr>\n",
       "      <th>93</th>\n",
       "      <td>sunet original - Cristi Proca</td>\n",
       "      <td>1</td>\n",
       "    </tr>\n",
       "    <tr>\n",
       "      <th>92</th>\n",
       "      <td>original sound - MEMES I LIKE✅</td>\n",
       "      <td>1</td>\n",
       "    </tr>\n",
       "    <tr>\n",
       "      <th>91</th>\n",
       "      <td>πρωτότυπος ήχος - Νίκη Γλυνού</td>\n",
       "      <td>1</td>\n",
       "    </tr>\n",
       "    <tr>\n",
       "      <th>90</th>\n",
       "      <td>original sound - Amber Dokter</td>\n",
       "      <td>1</td>\n",
       "    </tr>\n",
       "    <tr>\n",
       "      <th>0</th>\n",
       "      <td>original sound - Pary Gull Moti</td>\n",
       "      <td>1</td>\n",
       "    </tr>\n",
       "    <tr>\n",
       "      <th>89</th>\n",
       "      <td>Oh No - Kreepa</td>\n",
       "      <td>1</td>\n",
       "    </tr>\n",
       "    <tr>\n",
       "      <th>81</th>\n",
       "      <td>son original - Ylies🇲🇦</td>\n",
       "      <td>1</td>\n",
       "    </tr>\n",
       "    <tr>\n",
       "      <th>75</th>\n",
       "      <td>Toy Story: You've Got A Friend In Me - Geek Music</td>\n",
       "      <td>1</td>\n",
       "    </tr>\n",
       "    <tr>\n",
       "      <th>76</th>\n",
       "      <td>origineel geluid - Jan Verban</td>\n",
       "      <td>1</td>\n",
       "    </tr>\n",
       "    <tr>\n",
       "      <th>77</th>\n",
       "      <td>Wati by Night - Sexion d'Assaut</td>\n",
       "      <td>1</td>\n",
       "    </tr>\n",
       "    <tr>\n",
       "      <th>78</th>\n",
       "      <td>оригинальный звук - hamster</td>\n",
       "      <td>1</td>\n",
       "    </tr>\n",
       "    <tr>\n",
       "      <th>79</th>\n",
       "      <td>Thinking with My Dick (feat. Juicy J) - Kevin ...</td>\n",
       "      <td>1</td>\n",
       "    </tr>\n",
       "    <tr>\n",
       "      <th>80</th>\n",
       "      <td>STAY - The Kid LAROI &amp; Justin Bieber</td>\n",
       "      <td>1</td>\n",
       "    </tr>\n",
       "  </tbody>\n",
       "</table>\n",
       "</div>"
      ],
      "text/plain": [
       "                                                 sound  freq\n",
       "1               Love You So - The King Khan & BBQ Show     4\n",
       "10                             original sound - Mrkrul     3\n",
       "22                       original sound - Donell Totti     3\n",
       "66        Jiggle Jiggle - Duke & Jones & Louis Theroux     2\n",
       "15                    origineel geluid - Ken demarteau     2\n",
       "30                         sonido original - Esteve <3     2\n",
       "19                   original sound - Andrey Moshkanov     2\n",
       "100                          son original - Inès 🤹🏻‍♀️     1\n",
       "99   Remember the Name (feat. Styles of Beyond) - F...     1\n",
       "98                          original sound - wlimitate     1\n",
       "101             Ya Nour el Ein - Adium Remix - Massari     1\n",
       "97                              الصوت الأصلي - بوشنب⭐️     1\n",
       "102                            original sound - katnuf     1\n",
       "96                    son original - nicocapone.comedy     1\n",
       "95                                son original - Medha     1\n",
       "103                       Impi - Johnny Clegg & Juluka     1\n",
       "94                      origineel geluid - RandomShit🤣     1\n",
       "93                       sunet original - Cristi Proca     1\n",
       "92                      original sound - MEMES I LIKE✅     1\n",
       "91                       πρωτότυπος ήχος - Νίκη Γλυνού     1\n",
       "90                       original sound - Amber Dokter     1\n",
       "0                      original sound - Pary Gull Moti     1\n",
       "89                                      Oh No - Kreepa     1\n",
       "81                              son original - Ylies🇲🇦     1\n",
       "75   Toy Story: You've Got A Friend In Me - Geek Music     1\n",
       "76                       origineel geluid - Jan Verban     1\n",
       "77                     Wati by Night - Sexion d'Assaut     1\n",
       "78                         оригинальный звук - hamster     1\n",
       "79   Thinking with My Dick (feat. Juicy J) - Kevin ...     1\n",
       "80                STAY - The Kid LAROI & Justin Bieber     1"
      ]
     },
     "execution_count": 12,
     "metadata": {},
     "output_type": "execute_result"
    }
   ],
   "source": [
    "counts_df.sort_values('freq', ascending=False)[0:30]"
   ]
  },
  {
   "cell_type": "markdown",
   "metadata": {},
   "source": [
    "## Modelling tags"
   ]
  },
  {
   "cell_type": "code",
   "execution_count": 27,
   "metadata": {},
   "outputs": [],
   "source": [
    "# Format the data for rule mining (v_id is transaction, each tag is an item)\n",
    "with open(\"./tag-transactions\", \"w\") as ofile:\n",
    "    ofile.write(\"v_id,tag\\n\")\n",
    "    for ix, r in data.iterrows():\n",
    "        for t in r.tags:\n",
    "            if t[0] == '@': continue # Skip mentions\n",
    "            clean_t = remove_emojis(t)\n",
    "            if common_filter_rules(clean_t) and clean_t[1:] not in common and len(clean_t) > 1:\n",
    "                ofile.write(f\"{r.v_id},{t}\\n\")\n",
    "    \"\"\"\n",
    "    for ix, r in mb_data.iterrows():\n",
    "        for t in r.tags:\n",
    "            if t[0] == '@': continue # Skip mentions\n",
    "            clean_t = remove_emojis(t)\n",
    "            if common_filter_rules(clean_t) and clean_t[1:] not in common and len(clean_t) > 1:\n",
    "                ofile.write(f\"{r.v_id},{t}\\n\")\n",
    "    \"\"\""
   ]
  },
  {
   "cell_type": "code",
   "execution_count": 28,
   "metadata": {},
   "outputs": [],
   "source": [
    "# Format the data for modelling\n",
    "sentences = list()\n",
    "with open(\"./tag-sentences\", \"w\") as ofile:\n",
    "    for tags in tags_series:\n",
    "        clean_t = [remove_emojis(t) for t in tags]\n",
    "        clean_t = sorted(list(filter(lambda t : t[1:] not in common and len(t) > 1, clean_t)))\n",
    "        clean_t = list(filter(common_filter_rules, clean_t))\n",
    "        if len(clean_t) > 0:\n",
    "            sentence = ' '.join(clean_t)\n",
    "            ofile.write(sentence + '\\n')\n",
    "            sentences.append(sentence)"
   ]
  },
  {
   "cell_type": "code",
   "execution_count": 29,
   "metadata": {},
   "outputs": [],
   "source": [
    "from sklearn.feature_extraction.text import TfidfVectorizer\n",
    "vectorizer = TfidfVectorizer(max_df=0.4)\n",
    "X = vectorizer.fit_transform(sentences)"
   ]
  },
  {
   "cell_type": "code",
   "execution_count": 30,
   "metadata": {},
   "outputs": [
    {
     "data": {
      "text/plain": [
       "(430, 1501)"
      ]
     },
     "execution_count": 30,
     "metadata": {},
     "output_type": "execute_result"
    }
   ],
   "source": [
    "X.shape"
   ]
  },
  {
   "cell_type": "markdown",
   "metadata": {},
   "source": [
    "## Audio extraction"
   ]
  },
  {
   "cell_type": "code",
   "execution_count": 50,
   "metadata": {},
   "outputs": [],
   "source": [
    "import ffmpeg"
   ]
  },
  {
   "cell_type": "code",
   "execution_count": 99,
   "metadata": {},
   "outputs": [],
   "source": [
    "vid_url = \"https://v16-webapp.tiktok.com/56d17451298e4639dd18a4fc49ebe3f0/623e0e61/video/tos/useast2a/tos-useast2a-ve-0068c001/3fa802bcb9c04747aae8cad0279b2850/?a=1988&br=5390&bt=2695&cd=0%7C0%7C1%7C0&ch=0&cr=0&cs=0&cv=1&dr=0&ds=3&er=&ft=XOQ9-3.Pnz7ThY.2JDXq&l=202203251247540102230201311EBBFAB6&lr=tiktok_m&mime_type=video_mp4&net=0&pl=0&qs=0&rc=M2h3NjU2OGVydTMzaDczM0ApM2VnaTc2aDtkN2Q2NThoaWdtbWZea3IzYzNfLS01MTZzczZjYi02MzAwNDI1NS5fLzM6Yw%3D%3D&vl=&vr=\""
   ]
  },
  {
   "cell_type": "code",
   "execution_count": 59,
   "metadata": {},
   "outputs": [
    {
     "data": {
      "text/plain": [
       "'44100'"
      ]
     },
     "execution_count": 59,
     "metadata": {},
     "output_type": "execute_result"
    }
   ],
   "source": [
    "# Probe the audio streams (use it in case you need information like sample rate):\n",
    "probe = ffmpeg.probe(vid_url)\n",
    "probe"
   ]
  },
  {
   "cell_type": "code",
   "execution_count": 100,
   "metadata": {},
   "outputs": [],
   "source": [
    "audio = ffmpeg.input(vid_url).output(\"pipe:\", format=\"WAV\")"
   ]
  },
  {
   "cell_type": "code",
   "execution_count": 101,
   "metadata": {},
   "outputs": [],
   "source": [
    "a_bytes = audio.run(capture_stdout=True)[0]"
   ]
  },
  {
   "cell_type": "code",
   "execution_count": 102,
   "metadata": {},
   "outputs": [],
   "source": [
    "with open('audio.wav', 'wb') as f:\n",
    "    f.write(a_bytes)"
   ]
  },
  {
   "cell_type": "code",
   "execution_count": null,
   "metadata": {},
   "outputs": [],
   "source": []
  }
 ],
 "metadata": {
  "kernelspec": {
   "display_name": "Python 3 (ipykernel)",
   "language": "python",
   "name": "python3"
  },
  "language_info": {
   "codemirror_mode": {
    "name": "ipython",
    "version": 3
   },
   "file_extension": ".py",
   "mimetype": "text/x-python",
   "name": "python",
   "nbconvert_exporter": "python",
   "pygments_lexer": "ipython3",
   "version": "3.8.10"
  }
 },
 "nbformat": 4,
 "nbformat_minor": 4
}
